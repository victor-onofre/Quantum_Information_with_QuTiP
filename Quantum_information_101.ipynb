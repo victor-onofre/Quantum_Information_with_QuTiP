{
 "cells": [
  {
   "cell_type": "markdown",
   "metadata": {},
   "source": [
    "# Quantum Information 101\n",
    "\n",
    "### **Victor Onofre**"
   ]
  },
  {
   "cell_type": "code",
   "execution_count": 2,
   "metadata": {},
   "outputs": [],
   "source": [
    "import matplotlib.pyplot as plt\n",
    "import qutip as qt\n",
    "import numpy as np"
   ]
  },
  {
   "cell_type": "markdown",
   "metadata": {},
   "source": [
    "### Density operator\n",
    "\n",
    "$$\\rho = \\sum_{i} p_{i} |\\psi_{i} > < \\psi_{i}|$$"
   ]
  },
  {
   "cell_type": "markdown",
   "metadata": {},
   "source": [
    " \\begin{equation}\n",
    "|0> =\n",
    "\\begin{bmatrix} \n",
    "1     \\cr\n",
    "0     \\end{bmatrix}  \\qquad\n",
    "|1> =\n",
    "\\begin{bmatrix} \n",
    "0     \\cr\n",
    "1     \\end{bmatrix}  \n",
    "\\end{equation}\n"
   ]
  },
  {
   "cell_type": "code",
   "execution_count": 3,
   "metadata": {},
   "outputs": [],
   "source": [
    "zero = qt.basis(2,0)\n",
    "one  = qt.basis(2,1)"
   ]
  },
  {
   "cell_type": "code",
   "execution_count": 5,
   "metadata": {},
   "outputs": [
    {
     "data": {
      "text/latex": [
       "Quantum object: dims = [[2], [1]], shape = (2, 1), type = ket\\begin{equation*}\\left(\\begin{array}{*{11}c}0.0\\\\1.0\\\\\\end{array}\\right)\\end{equation*}"
      ],
      "text/plain": [
       "Quantum object: dims = [[2], [1]], shape = (2, 1), type = ket\n",
       "Qobj data =\n",
       "[[0.]\n",
       " [1.]]"
      ]
     },
     "execution_count": 5,
     "metadata": {},
     "output_type": "execute_result"
    }
   ],
   "source": [
    "one"
   ]
  },
  {
   "cell_type": "markdown",
   "metadata": {},
   "source": [
    "Example:\n",
    "\n",
    "$$|\\psi > = \\sqrt{0.2} |0> + \\sqrt{0.8} |1>$$"
   ]
  },
  {
   "cell_type": "code",
   "execution_count": 7,
   "metadata": {},
   "outputs": [
    {
     "data": {
      "text/latex": [
       "Quantum object: dims = [[2], [1]], shape = (2, 1), type = ket\\begin{equation*}\\left(\\begin{array}{*{11}c}0.447\\\\0.894\\\\\\end{array}\\right)\\end{equation*}"
      ],
      "text/plain": [
       "Quantum object: dims = [[2], [1]], shape = (2, 1), type = ket\n",
       "Qobj data =\n",
       "[[0.4472136 ]\n",
       " [0.89442719]]"
      ]
     },
     "execution_count": 7,
     "metadata": {},
     "output_type": "execute_result"
    }
   ],
   "source": [
    "psi = np.sqrt(0.2)*zero + np.sqrt(0.8)*one\n",
    "psi"
   ]
  },
  {
   "cell_type": "markdown",
   "metadata": {},
   "source": [
    "$< \\psi_{i}|\\psi_{i} >$"
   ]
  },
  {
   "cell_type": "code",
   "execution_count": 8,
   "metadata": {},
   "outputs": [
    {
     "data": {
      "text/latex": [
       "Quantum object: dims = [[1], [1]], shape = (1, 1), type = bra\\begin{equation*}\\left(\\begin{array}{*{11}c}1.000\\\\\\end{array}\\right)\\end{equation*}"
      ],
      "text/plain": [
       "Quantum object: dims = [[1], [1]], shape = (1, 1), type = bra\n",
       "Qobj data =\n",
       "[[1.]]"
      ]
     },
     "execution_count": 8,
     "metadata": {},
     "output_type": "execute_result"
    }
   ],
   "source": [
    "psi.dag()*psi"
   ]
  },
  {
   "cell_type": "markdown",
   "metadata": {},
   "source": [
    "$$\\rho = \\sum_{i} p_{i} |\\psi_{i} > < \\psi_{i}| = |\\psi > < \\psi| =  (\\sqrt{0.2} |0> + \\sqrt{0.8} |1>) (\\sqrt{0.2} <0| + \\sqrt{0.8} <1|)$$\n",
    "$$ = 0.2 |0> <0| + \\sqrt{0.2}\\sqrt{0.8}|0><1| + \\sqrt{0.2}\\sqrt{0.8}|1><0| + 0.8 |1> <1| $$"
   ]
  },
  {
   "cell_type": "code",
   "execution_count": 9,
   "metadata": {},
   "outputs": [
    {
     "data": {
      "text/latex": [
       "Quantum object: dims = [[2], [2]], shape = (2, 2), type = oper, isherm = True\\begin{equation*}\\left(\\begin{array}{*{11}c}0.200 & 0.400\\\\0.400 & 0.800\\\\\\end{array}\\right)\\end{equation*}"
      ],
      "text/plain": [
       "Quantum object: dims = [[2], [2]], shape = (2, 2), type = oper, isherm = True\n",
       "Qobj data =\n",
       "[[0.2 0.4]\n",
       " [0.4 0.8]]"
      ]
     },
     "execution_count": 9,
     "metadata": {},
     "output_type": "execute_result"
    }
   ],
   "source": [
    "rho = psi*psi.dag()\n",
    "rho"
   ]
  },
  {
   "cell_type": "markdown",
   "metadata": {},
   "source": [
    "The evolution of the density operator is described by the equation\n",
    "\n",
    "$$\\rho = \\sum_{i} p_{i} |\\psi_{i} > < \\psi_{i}| \\rightarrow \\sum_{i} p_{i} U |\\psi_{i} > < \\psi_{i}| U^{\\dagger} = U \\rho U^{\\dagger} $$\n",
    "\n",
    "A measurement described by the operators $M_{m}$, with the initial state in $|\\psi_{i}>$. Then the probability of gettting $m$ is \n",
    "\n",
    "$$p(m|i) = <\\psi_{i}|M_{m}^{\\dagger}M_{m} |\\psi_{i}> = tr(M_{m}^{\\dagger}M_{m}|\\psi_{i} > < \\psi_{i}|  ) $$\n",
    "\n",
    "where we have used the equation:\n",
    "$$tr(A |\\psi> <\\psi|) = \\sum_{i} <i| A |\\psi> <\\psi|i> = <\\psi|A| \\psi> $$"
   ]
  },
  {
   "cell_type": "markdown",
   "metadata": {},
   "source": [
    "**Example:**"
   ]
  },
  {
   "cell_type": "markdown",
   "metadata": {},
   "source": [
    "$$M_{1}= |0><0|$$\n",
    "\n",
    "$$ tr(|0><0| |0><0|  |\\psi > < \\psi| ) = tr(|0><0|  |\\psi > < \\psi| )  = tr\\Big[ |0><0|  \\Big(0.2 |0> <0| + \\sqrt{0.2}\\sqrt{0.8}|0><1| + \\sqrt{0.2}\\sqrt{0.8}|1><0| + 0.8 |1> <1| \\Big)  \\Big]  $$\n",
    "\n",
    "$$ = tr\\Big[ 0.2 |0> <0| + \\sqrt{0.2}\\sqrt{0.8}|0><1|  \\Big]   = 0.2$$"
   ]
  },
  {
   "cell_type": "code",
   "execution_count": 10,
   "metadata": {},
   "outputs": [
    {
     "data": {
      "text/latex": [
       "Quantum object: dims = [[2], [2]], shape = (2, 2), type = oper, isherm = True\\begin{equation*}\\left(\\begin{array}{*{11}c}1.0 & 0.0\\\\0.0 & 0.0\\\\\\end{array}\\right)\\end{equation*}"
      ],
      "text/plain": [
       "Quantum object: dims = [[2], [2]], shape = (2, 2), type = oper, isherm = True\n",
       "Qobj data =\n",
       "[[1. 0.]\n",
       " [0. 0.]]"
      ]
     },
     "execution_count": 10,
     "metadata": {},
     "output_type": "execute_result"
    }
   ],
   "source": [
    "M1 = zero*zero.dag()\n",
    "M1"
   ]
  },
  {
   "cell_type": "code",
   "execution_count": 11,
   "metadata": {},
   "outputs": [
    {
     "data": {
      "text/plain": [
       "0.19999999999999998"
      ]
     },
     "execution_count": 11,
     "metadata": {},
     "output_type": "execute_result"
    }
   ],
   "source": [
    "p0 =( (M1.dag()*M1)*rho ).tr()\n",
    "p0"
   ]
  },
  {
   "cell_type": "code",
   "execution_count": 12,
   "metadata": {},
   "outputs": [
    {
     "data": {
      "text/plain": [
       "0.19999999999999998"
      ]
     },
     "execution_count": 12,
     "metadata": {},
     "output_type": "execute_result"
    }
   ],
   "source": [
    "p0 =( M1*rho ).tr()\n",
    "p0"
   ]
  },
  {
   "cell_type": "markdown",
   "metadata": {},
   "source": [
    "An operator $\\rho$ is the desity operator associtate to some ensemble $\\{ p_{i}, |\\psi_{i}>\\}$ if and only if it satisfies the conditions:\n",
    "\n",
    "(1) **Trace condition** $\\rho$ has trace equal to one $tr(\\rho) = 1$\n",
    "\n",
    "$$ tr(\\rho) = \\sum_{i} p_{i} tr(|\\psi_{i} > < \\psi_{i} |) = \\sum_{i} p_{i} = 1 $$\n",
    "\n",
    "(2) **Positivity condition** $\\rho$ is a positive operator $<\\phi | \\rho | \\phi> \\geq 0$\n",
    "\n",
    "Suppose $|\\phi>$ is an arbitrary vector in state space. Then \n",
    "\n",
    "$$\\rho = \\sum_{i} p_{i} |\\psi_{i} > < \\psi_{i}|$$\n",
    "\n",
    "$$<\\phi | \\rho | \\phi> = \\sum_{i} p_{i} <\\phi|\\psi_{i} > <\\psi_{i} | \\phi >  = \\sum_{i} p_{i} |< \\phi|\\psi_{i} > |^{2} \\geq 0$$"
   ]
  },
  {
   "cell_type": "code",
   "execution_count": 13,
   "metadata": {},
   "outputs": [
    {
     "data": {
      "text/plain": [
       "0.9999999999999999"
      ]
     },
     "execution_count": 13,
     "metadata": {},
     "output_type": "execute_result"
    }
   ],
   "source": [
    "rho.tr()"
   ]
  },
  {
   "cell_type": "markdown",
   "metadata": {},
   "source": [
    "## Reduced density operator"
   ]
  },
  {
   "cell_type": "markdown",
   "metadata": {},
   "source": [
    "The reduced density operator is so useful as to be virtually indispensable in the analysis of composite quantum systems. Suppose we have a physicial systems $A$ and $B$, whose state is desbribed by a density operator $\\rho^{AB}$. The reduced density operator for system $A$ is defined by "
   ]
  },
  {
   "cell_type": "markdown",
   "metadata": {},
   "source": [
    "$$ \\rho^{A} = tr_{B}(\\rho^{AB})$$\n",
    "\n",
    "where $tr_{B}$ is the **partial trace** over system $B$.\n",
    "\n",
    "$$ tr_{B}(\\rho^{AB}) = tr_{B} \\Big( |a_{1}> <a_{2}| \\otimes |b_{1}> <b_{2}| \\Big) = |a_{1}> <a_{2}|  tr( |b_{1}> <b_{2}|)  $$"
   ]
  },
  {
   "cell_type": "markdown",
   "metadata": {},
   "source": [
    "$$\\rho_{1} = tr_{2}(\\rho_{12}) = \\sum_{\\alpha} <\\alpha_{2}|\\rho |\\alpha_{2}> $$\n",
    "\n",
    "$$\\rho_{2} = tr_{1}(\\rho_{12}) = \\sum_{i} <i_{1}|\\rho |i_{1}> $$"
   ]
  },
  {
   "cell_type": "markdown",
   "metadata": {},
   "source": [
    "**Example in the bell state:**\n",
    "\n",
    "$$|\\Phi > = \\frac{|00> + |11> }{\\sqrt{2}} $$\n",
    "\n",
    "$$|00> = |0> \\otimes |0> $$\n",
    "\n",
    "$$\\rho = |\\Phi > < \\Phi| = \\Big( \\frac{|00> + |11> }{\\sqrt{2}} \\Big)  \\Big( \\frac{<00| + <11| }{\\sqrt{2}} \\Big) =  \\frac{|00> <00| + |11> <00|+ |00> <11|+ |11> <11|}{2}  $$"
   ]
  },
  {
   "cell_type": "code",
   "execution_count": 14,
   "metadata": {},
   "outputs": [
    {
     "data": {
      "text/latex": [
       "Quantum object: dims = [[2, 2], [1, 1]], shape = (4, 1), type = ket\\begin{equation*}\\left(\\begin{array}{*{11}c}1.0\\\\0.0\\\\0.0\\\\0.0\\\\\\end{array}\\right)\\end{equation*}"
      ],
      "text/plain": [
       "Quantum object: dims = [[2, 2], [1, 1]], shape = (4, 1), type = ket\n",
       "Qobj data =\n",
       "[[1.]\n",
       " [0.]\n",
       " [0.]\n",
       " [0.]]"
      ]
     },
     "execution_count": 14,
     "metadata": {},
     "output_type": "execute_result"
    }
   ],
   "source": [
    "zero_zero = qt.tensor(zero,zero)\n",
    "zero_zero"
   ]
  },
  {
   "cell_type": "code",
   "execution_count": 15,
   "metadata": {},
   "outputs": [
    {
     "data": {
      "text/latex": [
       "Quantum object: dims = [[2, 2], [1, 1]], shape = (4, 1), type = ket\\begin{equation*}\\left(\\begin{array}{*{11}c}0.0\\\\0.0\\\\0.0\\\\1.0\\\\\\end{array}\\right)\\end{equation*}"
      ],
      "text/plain": [
       "Quantum object: dims = [[2, 2], [1, 1]], shape = (4, 1), type = ket\n",
       "Qobj data =\n",
       "[[0.]\n",
       " [0.]\n",
       " [0.]\n",
       " [1.]]"
      ]
     },
     "execution_count": 15,
     "metadata": {},
     "output_type": "execute_result"
    }
   ],
   "source": [
    "one_one = qt.tensor(one,one)\n",
    "one_one"
   ]
  },
  {
   "cell_type": "code",
   "execution_count": 16,
   "metadata": {},
   "outputs": [
    {
     "data": {
      "text/latex": [
       "Quantum object: dims = [[2, 2], [1, 1]], shape = (4, 1), type = ket\\begin{equation*}\\left(\\begin{array}{*{11}c}0.707\\\\0.0\\\\0.0\\\\0.707\\\\\\end{array}\\right)\\end{equation*}"
      ],
      "text/plain": [
       "Quantum object: dims = [[2, 2], [1, 1]], shape = (4, 1), type = ket\n",
       "Qobj data =\n",
       "[[0.70710678]\n",
       " [0.        ]\n",
       " [0.        ]\n",
       " [0.70710678]]"
      ]
     },
     "execution_count": 16,
     "metadata": {},
     "output_type": "execute_result"
    }
   ],
   "source": [
    "bell_state = (zero_zero +  one_one)*(1/np.sqrt(2))\n",
    "bell_state "
   ]
  },
  {
   "cell_type": "code",
   "execution_count": 17,
   "metadata": {},
   "outputs": [
    {
     "data": {
      "text/latex": [
       "Quantum object: dims = [[2, 2], [2, 2]], shape = (4, 4), type = oper, isherm = True\\begin{equation*}\\left(\\begin{array}{*{11}c}0.500 & 0.0 & 0.0 & 0.500\\\\0.0 & 0.0 & 0.0 & 0.0\\\\0.0 & 0.0 & 0.0 & 0.0\\\\0.500 & 0.0 & 0.0 & 0.500\\\\\\end{array}\\right)\\end{equation*}"
      ],
      "text/plain": [
       "Quantum object: dims = [[2, 2], [2, 2]], shape = (4, 4), type = oper, isherm = True\n",
       "Qobj data =\n",
       "[[0.5 0.  0.  0.5]\n",
       " [0.  0.  0.  0. ]\n",
       " [0.  0.  0.  0. ]\n",
       " [0.5 0.  0.  0.5]]"
      ]
     },
     "execution_count": 17,
     "metadata": {},
     "output_type": "execute_result"
    }
   ],
   "source": [
    "rho_bell = bell_state*(bell_state.dag())\n",
    "rho_bell"
   ]
  },
  {
   "cell_type": "markdown",
   "metadata": {},
   "source": [
    "$$\\rho^{1} = tr_{2}(\\rho) =   \\frac{tr_{2}(|00> <00|) + tr_{2}(|11> <00|) + tr_{2}(|00> <11|)+ tr_{2}(|11> <11|) }{2}  $$\n",
    "\n",
    "\n",
    "$$\\rho^{1} = tr_{2}(\\rho) =   \\frac{|0> <0| <0|0> +|1> <0| <0|1> + |0> <1| <1|0> + |1> <1| <1|1>  }{2}  $$\n",
    "\n",
    "$$\\rho^{1} = tr_{2}(\\rho) =   \\frac{|0> <0| + |1> <1|  }{2} = \\frac{I}{2}  $$"
   ]
  },
  {
   "cell_type": "code",
   "execution_count": 18,
   "metadata": {},
   "outputs": [
    {
     "data": {
      "text/latex": [
       "Quantum object: dims = [[2], [2]], shape = (2, 2), type = oper, isherm = True\\begin{equation*}\\left(\\begin{array}{*{11}c}0.500 & 0.0\\\\0.0 & 0.500\\\\\\end{array}\\right)\\end{equation*}"
      ],
      "text/plain": [
       "Quantum object: dims = [[2], [2]], shape = (2, 2), type = oper, isherm = True\n",
       "Qobj data =\n",
       "[[0.5 0. ]\n",
       " [0.  0.5]]"
      ]
     },
     "execution_count": 18,
     "metadata": {},
     "output_type": "execute_result"
    }
   ],
   "source": [
    "rho_bell.ptrace(1)"
   ]
  },
  {
   "cell_type": "markdown",
   "metadata": {},
   "source": [
    "# The Kraus representation"
   ]
  },
  {
   "cell_type": "markdown",
   "metadata": {},
   "source": [
    "$$\\rho_{AB} = \\rho_{A} \\otimes |0_{B}> <0_{B}| $$\n",
    "\n",
    "Subsystem $B$ is in a pure state. The evolution of the total system is governed by the unitary operator $U^{AB}$ which leads to the new density matrix\n",
    "\n",
    "$$\\rho_{AB}' = U^{AB} \\rho_{12} (U^{AB})^{\\dagger} = U^{AB} \\Big( \\rho_{A} \\otimes |0_{B}> <0_{B}  \\Big) U^{AB})^{\\dagger}  $$\n",
    "\n",
    "We are interested in the new matrix $\\rho_{AB}'$ descrbing subsystem 1, we must trace over the second subsystem:\n",
    "\n",
    "$$\\rho_{A}' =  Tr_{B}(\\rho_{AB}') = Tr_{B} \\Big[U^{AB} \\Big( \\rho_{A} \\otimes |0_{B}> <0_{B}| \\Big) U^{\\dagger} \\Big]  = Tr_{B} \\Big[ U^{AB} \\Big( \\rho_{A}|0_{B}> <0_{B}| \\Big) U^{\\dagger} \\Big]   = Tr_{B} \\Big[ U^{AB} \\Big( |0_{B}>\\rho_{A} <0_{B}| \\Big) (U^{AB})^{\\dagger}  \\Big]  =\\sum_{k} < k _{B}|U^{AB}  |0_{B}> \\rho_{A} <0_{B}| (U^{AB})^{\\dagger}  |k_{B}> $$\n",
    "\n",
    "where $\\{ |k_{B}> \\} $ is a basis set for thje Hilbert space $H_{B}$ associated with subsystem $B$. $< k _{B}|U^{AB}  |0_{B}> $ is an operator acting on the Hilbert space $H_{A}$ associated with subsytem $A$"
   ]
  },
  {
   "cell_type": "markdown",
   "metadata": {},
   "source": [
    "**Example:**\n",
    "\n",
    "\n",
    "\n",
    "$$\\rho^{AB} = \\rho^{A} \\otimes |0_{B} > <0_{B}| $$"
   ]
  },
  {
   "cell_type": "markdown",
   "metadata": {},
   "source": [
    "$$\\rho^{A} =  |\\psi > < \\psi|  = 0.2 |0> <0| + \\sqrt{0.2}\\sqrt{0.8}|0><1| + \\sqrt{0.2}\\sqrt{0.8}|1><0| + 0.8 |1> <1| $$"
   ]
  },
  {
   "cell_type": "code",
   "execution_count": 19,
   "metadata": {},
   "outputs": [
    {
     "data": {
      "text/latex": [
       "Quantum object: dims = [[2], [2]], shape = (2, 2), type = oper, isherm = True\\begin{equation*}\\left(\\begin{array}{*{11}c}1.0 & 0.0\\\\0.0 & 0.0\\\\\\end{array}\\right)\\end{equation*}"
      ],
      "text/plain": [
       "Quantum object: dims = [[2], [2]], shape = (2, 2), type = oper, isherm = True\n",
       "Qobj data =\n",
       "[[1. 0.]\n",
       " [0. 0.]]"
      ]
     },
     "execution_count": 19,
     "metadata": {},
     "output_type": "execute_result"
    }
   ],
   "source": [
    "rho_B = zero*(zero.dag())\n",
    "rho_B"
   ]
  },
  {
   "cell_type": "code",
   "execution_count": 20,
   "metadata": {},
   "outputs": [
    {
     "data": {
      "text/latex": [
       "Quantum object: dims = [[2], [2]], shape = (2, 2), type = oper, isherm = True\\begin{equation*}\\left(\\begin{array}{*{11}c}0.200 & 0.400\\\\0.400 & 0.800\\\\\\end{array}\\right)\\end{equation*}"
      ],
      "text/plain": [
       "Quantum object: dims = [[2], [2]], shape = (2, 2), type = oper, isherm = True\n",
       "Qobj data =\n",
       "[[0.2 0.4]\n",
       " [0.4 0.8]]"
      ]
     },
     "execution_count": 20,
     "metadata": {},
     "output_type": "execute_result"
    }
   ],
   "source": [
    "rho"
   ]
  },
  {
   "cell_type": "code",
   "execution_count": 21,
   "metadata": {},
   "outputs": [
    {
     "data": {
      "text/latex": [
       "Quantum object: dims = [[2, 2], [2, 2]], shape = (4, 4), type = oper, isherm = True\\begin{equation*}\\left(\\begin{array}{*{11}c}0.200 & 0.0 & 0.400 & 0.0\\\\0.0 & 0.0 & 0.0 & 0.0\\\\0.400 & 0.0 & 0.800 & 0.0\\\\0.0 & 0.0 & 0.0 & 0.0\\\\\\end{array}\\right)\\end{equation*}"
      ],
      "text/plain": [
       "Quantum object: dims = [[2, 2], [2, 2]], shape = (4, 4), type = oper, isherm = True\n",
       "Qobj data =\n",
       "[[0.2 0.  0.4 0. ]\n",
       " [0.  0.  0.  0. ]\n",
       " [0.4 0.  0.8 0. ]\n",
       " [0.  0.  0.  0. ]]"
      ]
     },
     "execution_count": 21,
     "metadata": {},
     "output_type": "execute_result"
    }
   ],
   "source": [
    "rho_AB = qt.tensor(rho,rho_B)\n",
    "rho_AB"
   ]
  },
  {
   "cell_type": "markdown",
   "metadata": {},
   "source": [
    "$$U^{AB} = \\frac{1}{\\sqrt{2}} \\Big(\\sigma_{x}^{A} \\otimes I^{B}  + \\sigma_{y}^{A} \\otimes \\sigma_{x}^{B}  \\Big) $$"
   ]
  },
  {
   "cell_type": "code",
   "execution_count": 22,
   "metadata": {},
   "outputs": [
    {
     "data": {
      "text/latex": [
       "Quantum object: dims = [[2], [2]], shape = (2, 2), type = oper, isherm = True\\begin{equation*}\\left(\\begin{array}{*{11}c}0.0 & 1.0\\\\1.0 & 0.0\\\\\\end{array}\\right)\\end{equation*}"
      ],
      "text/plain": [
       "Quantum object: dims = [[2], [2]], shape = (2, 2), type = oper, isherm = True\n",
       "Qobj data =\n",
       "[[0. 1.]\n",
       " [1. 0.]]"
      ]
     },
     "execution_count": 22,
     "metadata": {},
     "output_type": "execute_result"
    }
   ],
   "source": [
    "X_A = qt.sigmax()\n",
    "X_A"
   ]
  },
  {
   "cell_type": "code",
   "execution_count": 28,
   "metadata": {},
   "outputs": [],
   "source": [
    "X_B = qt.sigmax()"
   ]
  },
  {
   "cell_type": "code",
   "execution_count": 23,
   "metadata": {},
   "outputs": [
    {
     "data": {
      "text/latex": [
       "Quantum object: dims = [[2], [2]], shape = (2, 2), type = oper, isherm = True\\begin{equation*}\\left(\\begin{array}{*{11}c}0.0 & -1.0j\\\\1.0j & 0.0\\\\\\end{array}\\right)\\end{equation*}"
      ],
      "text/plain": [
       "Quantum object: dims = [[2], [2]], shape = (2, 2), type = oper, isherm = True\n",
       "Qobj data =\n",
       "[[0.+0.j 0.-1.j]\n",
       " [0.+1.j 0.+0.j]]"
      ]
     },
     "execution_count": 23,
     "metadata": {},
     "output_type": "execute_result"
    }
   ],
   "source": [
    "Y_A= qt.sigmay()\n",
    "Y_A"
   ]
  },
  {
   "cell_type": "code",
   "execution_count": 26,
   "metadata": {},
   "outputs": [
    {
     "data": {
      "text/latex": [
       "Quantum object: dims = [[2], [2]], shape = (2, 2), type = oper, isherm = True\\begin{equation*}\\left(\\begin{array}{*{11}c}1.0 & 0.0\\\\0.0 & 1.0\\\\\\end{array}\\right)\\end{equation*}"
      ],
      "text/plain": [
       "Quantum object: dims = [[2], [2]], shape = (2, 2), type = oper, isherm = True\n",
       "Qobj data =\n",
       "[[1. 0.]\n",
       " [0. 1.]]"
      ]
     },
     "execution_count": 26,
     "metadata": {},
     "output_type": "execute_result"
    }
   ],
   "source": [
    "I_B = qt.qeye(2)\n",
    "I_B"
   ]
  },
  {
   "cell_type": "code",
   "execution_count": 29,
   "metadata": {},
   "outputs": [
    {
     "data": {
      "text/latex": [
       "Quantum object: dims = [[2, 2], [2, 2]], shape = (4, 4), type = oper, isherm = True\\begin{equation*}\\left(\\begin{array}{*{11}c}0.0 & 0.0 & 0.707 & -0.707j\\\\0.0 & 0.0 & -0.707j & 0.707\\\\0.707 & 0.707j & 0.0 & 0.0\\\\0.707j & 0.707 & 0.0 & 0.0\\\\\\end{array}\\right)\\end{equation*}"
      ],
      "text/plain": [
       "Quantum object: dims = [[2, 2], [2, 2]], shape = (4, 4), type = oper, isherm = True\n",
       "Qobj data =\n",
       "[[0.        +0.j         0.        +0.j         0.70710678+0.j\n",
       "  0.        -0.70710678j]\n",
       " [0.        +0.j         0.        +0.j         0.        -0.70710678j\n",
       "  0.70710678+0.j        ]\n",
       " [0.70710678+0.j         0.        +0.70710678j 0.        +0.j\n",
       "  0.        +0.j        ]\n",
       " [0.        +0.70710678j 0.70710678+0.j         0.        +0.j\n",
       "  0.        +0.j        ]]"
      ]
     },
     "execution_count": 29,
     "metadata": {},
     "output_type": "execute_result"
    }
   ],
   "source": [
    "U_AB = ( qt.tensor(X_A ,I_B ) + qt.tensor(Y_A, X_B)  ) / np.sqrt(2)\n",
    "U_AB"
   ]
  },
  {
   "cell_type": "markdown",
   "metadata": {},
   "source": [
    "$$\\rho_{AB}' =U^{AB} \\rho_{AB} (U^{AB})^{\\dagger} = $$\n",
    "\n",
    "$$ =\\frac{1}{2} \\Big\\{ \\sigma_{x}^{A} \\rho_{A}  \\sigma_{x}^{A} \\otimes | 0_{B} > <0_{B} | +  \\sigma_{y}^{A} \\rho_{A}  \\sigma_{y}^{A} \\otimes | 1_{B} > <1_{B} |  +  \\sigma_{x}^{A} \\rho_{A}  \\sigma_{x}^{A} \\otimes | 0_{B} > <1_{B} |  +  \\sigma_{y}^{A} \\rho_{A}  \\sigma_{x}^{A} \\otimes | 1_{B} > <0_{B} |  \\Big\\}  $$"
   ]
  },
  {
   "cell_type": "code",
   "execution_count": 30,
   "metadata": {},
   "outputs": [
    {
     "data": {
      "text/latex": [
       "Quantum object: dims = [[2, 2], [2, 2]], shape = (4, 4), type = oper, isherm = True\\begin{equation*}\\left(\\begin{array}{*{11}c}0.400 & 0.400j & 0.200 & -0.200j\\\\-0.400j & 0.400 & -0.200j & -0.200\\\\0.200 & 0.200j & 0.100 & -0.100j\\\\0.200j & -0.200 & 0.100j & 0.100\\\\\\end{array}\\right)\\end{equation*}"
      ],
      "text/plain": [
       "Quantum object: dims = [[2, 2], [2, 2]], shape = (4, 4), type = oper, isherm = True\n",
       "Qobj data =\n",
       "[[ 0.4+0.j   0. +0.4j  0.2+0.j   0. -0.2j]\n",
       " [ 0. -0.4j  0.4+0.j   0. -0.2j -0.2+0.j ]\n",
       " [ 0.2+0.j   0. +0.2j  0.1+0.j   0. -0.1j]\n",
       " [ 0. +0.2j -0.2+0.j   0. +0.1j  0.1+0.j ]]"
      ]
     },
     "execution_count": 30,
     "metadata": {},
     "output_type": "execute_result"
    }
   ],
   "source": [
    "rho_AB_prime = U_AB*rho_AB*(U_AB.dag())\n",
    "rho_AB_prime"
   ]
  },
  {
   "cell_type": "markdown",
   "metadata": {},
   "source": [
    "$$ \\rho_{A} \\rightarrow \\rho_{A}' = Tr_{B}[\\rho_{AB}'] = \\frac{1}{2} \\Big\\{ \\sigma_{x}^{A} \\rho^{A} \\sigma_{x}^{A} +  \\sigma_{y}^{A} \\rho^{A} \\sigma_{y}^{A}   \\Big\\} $$"
   ]
  },
  {
   "cell_type": "code",
   "execution_count": 31,
   "metadata": {},
   "outputs": [
    {
     "data": {
      "text/latex": [
       "Quantum object: dims = [[2], [2]], shape = (2, 2), type = oper, isherm = True\\begin{equation*}\\left(\\begin{array}{*{11}c}0.800 & 0.0\\\\0.0 & 0.200\\\\\\end{array}\\right)\\end{equation*}"
      ],
      "text/plain": [
       "Quantum object: dims = [[2], [2]], shape = (2, 2), type = oper, isherm = True\n",
       "Qobj data =\n",
       "[[0.8 0. ]\n",
       " [0.  0.2]]"
      ]
     },
     "execution_count": 31,
     "metadata": {},
     "output_type": "execute_result"
    }
   ],
   "source": [
    "rho_A = rho_AB_prime.ptrace(0)\n",
    "rho_A"
   ]
  },
  {
   "cell_type": "code",
   "execution_count": 33,
   "metadata": {},
   "outputs": [
    {
     "data": {
      "text/latex": [
       "Quantum object: dims = [[2], [2]], shape = (2, 2), type = oper, isherm = True\\begin{equation*}\\left(\\begin{array}{*{11}c}0.800 & 0.0\\\\0.0 & 0.200\\\\\\end{array}\\right)\\end{equation*}"
      ],
      "text/plain": [
       "Quantum object: dims = [[2], [2]], shape = (2, 2), type = oper, isherm = True\n",
       "Qobj data =\n",
       "[[0.8 0. ]\n",
       " [0.  0.2]]"
      ]
     },
     "execution_count": 33,
     "metadata": {},
     "output_type": "execute_result"
    }
   ],
   "source": [
    "rho_A_test = (X_A*rho*X_A +  Y_A*rho*Y_A  )/2\n",
    "rho_A_test"
   ]
  },
  {
   "cell_type": "markdown",
   "metadata": {},
   "source": [
    "$$\\rho_{A}' = \\varepsilon(\\rho_{A}) = \\sum_{i=1}^{2} K_{i}^{A} \\rho_{A} (K_{i}^{A})^{\\dagger} $$\n",
    "\n",
    "$$K_{1}^{A} = \\frac{1}{\\sqrt{2}} \\sigma_{x}^{A} \\quad K_{2}^{A} = \\frac{1}{\\sqrt{2}} \\sigma_{y}^{A} $$"
   ]
  },
  {
   "cell_type": "code",
   "execution_count": 32,
   "metadata": {},
   "outputs": [
    {
     "data": {
      "text/latex": [
       "Quantum object: dims = [[2], [2]], shape = (2, 2), type = oper, isherm = True\\begin{equation*}\\left(\\begin{array}{*{11}c}0.0 & 0.707\\\\0.707 & 0.0\\\\\\end{array}\\right)\\end{equation*}"
      ],
      "text/plain": [
       "Quantum object: dims = [[2], [2]], shape = (2, 2), type = oper, isherm = True\n",
       "Qobj data =\n",
       "[[0.         0.70710678]\n",
       " [0.70710678 0.        ]]"
      ]
     },
     "execution_count": 32,
     "metadata": {},
     "output_type": "execute_result"
    }
   ],
   "source": [
    "K1 = X_A/np.sqrt(2)\n",
    "K1"
   ]
  },
  {
   "cell_type": "code",
   "execution_count": 33,
   "metadata": {},
   "outputs": [
    {
     "data": {
      "text/latex": [
       "Quantum object: dims = [[2], [2]], shape = (2, 2), type = oper, isherm = True\\begin{equation*}\\left(\\begin{array}{*{11}c}0.0 & -0.707j\\\\0.707j & 0.0\\\\\\end{array}\\right)\\end{equation*}"
      ],
      "text/plain": [
       "Quantum object: dims = [[2], [2]], shape = (2, 2), type = oper, isherm = True\n",
       "Qobj data =\n",
       "[[0.+0.j         0.-0.70710678j]\n",
       " [0.+0.70710678j 0.+0.j        ]]"
      ]
     },
     "execution_count": 33,
     "metadata": {},
     "output_type": "execute_result"
    }
   ],
   "source": [
    "K2 = Y_A/np.sqrt(2)\n",
    "K2"
   ]
  },
  {
   "cell_type": "code",
   "execution_count": 34,
   "metadata": {},
   "outputs": [
    {
     "data": {
      "text/latex": [
       "Quantum object: dims = [[2], [2]], shape = (2, 2), type = oper, isherm = True\\begin{equation*}\\left(\\begin{array}{*{11}c}0.800 & 0.0\\\\0.0 & 0.200\\\\\\end{array}\\right)\\end{equation*}"
      ],
      "text/plain": [
       "Quantum object: dims = [[2], [2]], shape = (2, 2), type = oper, isherm = True\n",
       "Qobj data =\n",
       "[[0.8 0. ]\n",
       " [0.  0.2]]"
      ]
     },
     "execution_count": 34,
     "metadata": {},
     "output_type": "execute_result"
    }
   ],
   "source": [
    "rho_A_kraus = K1*rho*(K1.dag()) + K2*rho*(K2.dag())\n",
    "rho_A_kraus"
   ]
  },
  {
   "cell_type": "markdown",
   "metadata": {},
   "source": [
    "# **References:**\n",
    "\n",
    "[1] Nielsen, M., & Chuang, I. (2010). Quantum Computation and Quantum Information: 10th Anniversary Edition. Cambridge: Cambridge University Press. doi:10.1017/CBO9780511976667\n",
    "\n",
    "[2] Audretsch, J. (2006). T Entangled Systems: New Directions in Quantum Physics. Wiley-VCH\n",
    "    "
   ]
  },
  {
   "cell_type": "code",
   "execution_count": null,
   "metadata": {},
   "outputs": [],
   "source": []
  }
 ],
 "metadata": {
  "kernelspec": {
   "display_name": "Python 3",
   "language": "python",
   "name": "python3"
  },
  "language_info": {
   "codemirror_mode": {
    "name": "ipython",
    "version": 3
   },
   "file_extension": ".py",
   "mimetype": "text/x-python",
   "name": "python",
   "nbconvert_exporter": "python",
   "pygments_lexer": "ipython3",
   "version": "3.8.3"
  }
 },
 "nbformat": 4,
 "nbformat_minor": 4
}
